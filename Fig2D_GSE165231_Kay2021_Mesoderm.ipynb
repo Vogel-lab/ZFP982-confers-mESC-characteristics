{
 "cells": [
  {
   "cell_type": "markdown",
   "metadata": {},
   "source": [
    "## Plotting Genes of interest Mesoderm Kay2021Theconservedlongnon\n"
   ]
  },
  {
   "cell_type": "markdown",
   "metadata": {},
   "source": [
    "GEO: GSE165231\n",
    "\n",
    "doi:10.1093/cvr/cvab281\n",
    "\n",
    "The conserved long non-coding RNA CARMA regulates cardiomyocyte differentiation.\n",
    "\n",
    "Maryam Kay, Bahram M. Soltani, Mohamed Nemir, Parisa Aghagolzadeh,\n",
    "Iole Pezzuto, Panagiotis Chouvardas, Francesco Ruberto, Fatemeh Movahedi,\n",
    "Hassan Ansari, Hossein Baharvand, and Thierry Pedrazzini\n",
    "\n",
    "Cardiovascular Research (2021) 00, 1–15"
   ]
  },
  {
   "cell_type": "markdown",
   "metadata": {},
   "source": [
    "#### load modules"
   ]
  },
  {
   "cell_type": "code",
   "execution_count": 2,
   "metadata": {},
   "outputs": [],
   "source": [
    "%matplotlib inline\n",
    "import math\n",
    "import pandas as pd\n",
    "import numpy as np\n",
    "import matplotlib\n",
    "import matplotlib.pyplot as plt\n",
    "import scipy\n",
    "import scipy.cluster.hierarchy as sch\n",
    "import seaborn as sns\n",
    "\n",
    "import pylab\n",
    "from pylab import *"
   ]
  },
  {
   "cell_type": "markdown",
   "metadata": {},
   "source": [
    "## load data"
   ]
  },
  {
   "cell_type": "code",
   "execution_count": 3,
   "metadata": {},
   "outputs": [
    {
     "data": {
      "text/html": [
       "<div>\n",
       "<style scoped>\n",
       "    .dataframe tbody tr th:only-of-type {\n",
       "        vertical-align: middle;\n",
       "    }\n",
       "\n",
       "    .dataframe tbody tr th {\n",
       "        vertical-align: top;\n",
       "    }\n",
       "\n",
       "    .dataframe thead th {\n",
       "        text-align: right;\n",
       "    }\n",
       "</style>\n",
       "<table border=\"1\" class=\"dataframe\">\n",
       "  <thead>\n",
       "    <tr style=\"text-align: right;\">\n",
       "      <th></th>\n",
       "      <th>Day0-R1</th>\n",
       "      <th>Day0-R2</th>\n",
       "      <th>Day0-R3</th>\n",
       "      <th>Day3-R1</th>\n",
       "      <th>Day3-R2</th>\n",
       "      <th>Day3-R3</th>\n",
       "      <th>Day6-R1</th>\n",
       "      <th>Day6-R2</th>\n",
       "      <th>Day6-R3</th>\n",
       "      <th>Day10-R1</th>\n",
       "      <th>Day10-R2</th>\n",
       "      <th>Day10-R3</th>\n",
       "    </tr>\n",
       "    <tr>\n",
       "      <th>Gene</th>\n",
       "      <th></th>\n",
       "      <th></th>\n",
       "      <th></th>\n",
       "      <th></th>\n",
       "      <th></th>\n",
       "      <th></th>\n",
       "      <th></th>\n",
       "      <th></th>\n",
       "      <th></th>\n",
       "      <th></th>\n",
       "      <th></th>\n",
       "      <th></th>\n",
       "    </tr>\n",
       "  </thead>\n",
       "  <tbody>\n",
       "    <tr>\n",
       "      <th>Zfp982</th>\n",
       "      <td>84.52577</td>\n",
       "      <td>74.561975</td>\n",
       "      <td>56.587216</td>\n",
       "      <td>5.819602</td>\n",
       "      <td>4.727085</td>\n",
       "      <td>5.737349</td>\n",
       "      <td>0.429495</td>\n",
       "      <td>0.848170</td>\n",
       "      <td>0.772362</td>\n",
       "      <td>0.752484</td>\n",
       "      <td>0.221293</td>\n",
       "      <td>0.322671</td>\n",
       "    </tr>\n",
       "    <tr>\n",
       "      <th>Nanog</th>\n",
       "      <td>266.29256</td>\n",
       "      <td>268.514400</td>\n",
       "      <td>300.566257</td>\n",
       "      <td>175.926898</td>\n",
       "      <td>161.692213</td>\n",
       "      <td>146.963590</td>\n",
       "      <td>9.183218</td>\n",
       "      <td>9.141495</td>\n",
       "      <td>7.232134</td>\n",
       "      <td>8.279653</td>\n",
       "      <td>7.956503</td>\n",
       "      <td>5.022370</td>\n",
       "    </tr>\n",
       "  </tbody>\n",
       "</table>\n",
       "</div>"
      ],
      "text/plain": [
       "          Day0-R1     Day0-R2     Day0-R3     Day3-R1     Day3-R2     Day3-R3  \\\n",
       "Gene                                                                            \n",
       "Zfp982   84.52577   74.561975   56.587216    5.819602    4.727085    5.737349   \n",
       "Nanog   266.29256  268.514400  300.566257  175.926898  161.692213  146.963590   \n",
       "\n",
       "         Day6-R1   Day6-R2   Day6-R3  Day10-R1  Day10-R2  Day10-R3  \n",
       "Gene                                                                \n",
       "Zfp982  0.429495  0.848170  0.772362  0.752484  0.221293  0.322671  \n",
       "Nanog   9.183218  9.141495  7.232134  8.279653  7.956503  5.022370  "
      ]
     },
     "execution_count": 3,
     "metadata": {},
     "output_type": "execute_result"
    }
   ],
   "source": [
    "df_Kay = pd.read_table('~/Downloads/PythonNotebook/Mesoderm-Data_Kay2021_GSE165231/heat map final-Fig2C.txt').set_index('Gene')\n",
    "df_Kay[:2]"
   ]
  },
  {
   "cell_type": "code",
   "execution_count": 17,
   "metadata": {},
   "outputs": [],
   "source": [
    "df_Heatmap = df_Kay"
   ]
  },
  {
   "cell_type": "code",
   "execution_count": 18,
   "metadata": {},
   "outputs": [
    {
     "data": {
      "image/png": "[encoded data removed]",
      "text/plain": [
       "<Figure size 1080x216 with 2 Axes>"
      ]
     },
     "metadata": {
      "needs_background": "light"
     },
     "output_type": "display_data"
    }
   ],
   "source": [
    "df_plotme = df_Heatmap#.sort_values(by=['gene_name'], ascending=[True], inplace=False)\n",
    "\n",
    "column_labels = df_plotme.index #CGNP.axes[0]\n",
    "row_labels = df_plotme.columns[:] #CGNP.axes[1]\n",
    "data = df_plotme.values[:,:]\n",
    "\n",
    "# figure size\n",
    "#plt.figure(figsize=(20, 10))\n",
    "fig, ax = plt.subplots(figsize=(15, 3))\n",
    "\n",
    "# color scheme\n",
    "heatmap = ax.pcolormesh(data, cmap='Reds', alpha=1) # plt.cm.bwr\n",
    "    \n",
    "# add colorbar\n",
    "fig.colorbar(heatmap, ax=ax, label='log10 FPKM')#, ax=ax)\n",
    "\n",
    "# put the major ticks at the middle of each cell, notice \"reverse\" use of dimension\n",
    "ax.set_yticks(np.arange(data.shape[0])+0.5, minor=False)\n",
    "ax.set_xticks(np.arange(data.shape[1])+0.5, minor=False)\n",
    "ax.set_xticklabels(row_labels, minor=False)\n",
    "ax.set_yticklabels(column_labels, minor=False)\n",
    "ax.invert_yaxis()\n",
    "ax.xaxis.tick_top()\n",
    "#plt.xticks(rotation=90)\n",
    "\n",
    "#no frame\n",
    "ax.set_frame_on(False)\n",
    "\n",
    "# Turn off all the ticks\n",
    "ax = plt.gca()\n",
    "for t in ax.xaxis.get_major_ticks():\n",
    "    t.tick1line.set_visible(False)\n",
    "    t.tick2line.set_visible(False)\n",
    "for t in ax.yaxis.get_major_ticks():\n",
    "    t.tick1line.set_visible(False)\n",
    "    t.tick2line.set_visible(False)\n",
    "    \n",
    "plt.show()\n",
    "#fig.savefig(\"RIC-Heatmap.jpg\", dpi=300)\n",
    "#fig.savefig(\"Prot15-Heatmap.svg\", dpi=300)\n",
    "#fig.savefig(\"RIC-Heatmap.pdf\", dpi=300)"
   ]
  },
  {
   "cell_type": "code",
   "execution_count": 19,
   "metadata": {},
   "outputs": [
    {
     "data": {
      "text/html": [
       "<div>\n",
       "<style scoped>\n",
       "    .dataframe tbody tr th:only-of-type {\n",
       "        vertical-align: middle;\n",
       "    }\n",
       "\n",
       "    .dataframe tbody tr th {\n",
       "        vertical-align: top;\n",
       "    }\n",
       "\n",
       "    .dataframe thead th {\n",
       "        text-align: right;\n",
       "    }\n",
       "</style>\n",
       "<table border=\"1\" class=\"dataframe\">\n",
       "  <thead>\n",
       "    <tr style=\"text-align: right;\">\n",
       "      <th></th>\n",
       "      <th>Day0-R1</th>\n",
       "      <th>Day0-R2</th>\n",
       "      <th>Day0-R3</th>\n",
       "      <th>Day3-R1</th>\n",
       "      <th>Day3-R2</th>\n",
       "      <th>Day3-R3</th>\n",
       "      <th>Day6-R1</th>\n",
       "      <th>Day6-R2</th>\n",
       "      <th>Day6-R3</th>\n",
       "      <th>Day10-R1</th>\n",
       "      <th>Day10-R2</th>\n",
       "      <th>Day10-R3</th>\n",
       "    </tr>\n",
       "    <tr>\n",
       "      <th>Gene</th>\n",
       "      <th></th>\n",
       "      <th></th>\n",
       "      <th></th>\n",
       "      <th></th>\n",
       "      <th></th>\n",
       "      <th></th>\n",
       "      <th></th>\n",
       "      <th></th>\n",
       "      <th></th>\n",
       "      <th></th>\n",
       "      <th></th>\n",
       "      <th></th>\n",
       "    </tr>\n",
       "  </thead>\n",
       "  <tbody>\n",
       "    <tr>\n",
       "      <th>Zfp982</th>\n",
       "      <td>1.926989</td>\n",
       "      <td>1.872517</td>\n",
       "      <td>1.752718</td>\n",
       "      <td>0.764893</td>\n",
       "      <td>0.674594</td>\n",
       "      <td>0.758711</td>\n",
       "      <td>-0.367041</td>\n",
       "      <td>-0.071516</td>\n",
       "      <td>-0.112179</td>\n",
       "      <td>-0.123502</td>\n",
       "      <td>-0.655031</td>\n",
       "      <td>-0.491239</td>\n",
       "    </tr>\n",
       "    <tr>\n",
       "      <th>Nanog</th>\n",
       "      <td>2.425359</td>\n",
       "      <td>2.428968</td>\n",
       "      <td>2.477940</td>\n",
       "      <td>2.245332</td>\n",
       "      <td>2.208689</td>\n",
       "      <td>2.167210</td>\n",
       "      <td>0.962995</td>\n",
       "      <td>0.961017</td>\n",
       "      <td>0.859267</td>\n",
       "      <td>0.918012</td>\n",
       "      <td>0.900722</td>\n",
       "      <td>0.700909</td>\n",
       "    </tr>\n",
       "  </tbody>\n",
       "</table>\n",
       "</div>"
      ],
      "text/plain": [
       "         Day0-R1   Day0-R2   Day0-R3   Day3-R1   Day3-R2   Day3-R3   Day6-R1  \\\n",
       "Gene                                                                           \n",
       "Zfp982  1.926989  1.872517  1.752718  0.764893  0.674594  0.758711 -0.367041   \n",
       "Nanog   2.425359  2.428968  2.477940  2.245332  2.208689  2.167210  0.962995   \n",
       "\n",
       "         Day6-R2   Day6-R3  Day10-R1  Day10-R2  Day10-R3  \n",
       "Gene                                                      \n",
       "Zfp982 -0.071516 -0.112179 -0.123502 -0.655031 -0.491239  \n",
       "Nanog   0.961017  0.859267  0.918012  0.900722  0.700909  "
      ]
     },
     "execution_count": 19,
     "metadata": {},
     "output_type": "execute_result"
    }
   ],
   "source": [
    "log10_df_Heatmap = np.log10(df_Kay + 0.000001)\n",
    "log10_df_Heatmap[:2]"
   ]
  },
  {
   "cell_type": "code",
   "execution_count": 20,
   "metadata": {
    "scrolled": true
   },
   "outputs": [
    {
     "data": {
      "image/png": "[encoded data removed]",
      "text/plain": [
       "<Figure size 1080x216 with 2 Axes>"
      ]
     },
     "metadata": {
      "needs_background": "light"
     },
     "output_type": "display_data"
    }
   ],
   "source": [
    "df_plotme = log10_df_Heatmap#\n",
    "\n",
    "column_labels = df_plotme.index #CGNP.axes[0]\n",
    "row_labels = df_plotme.columns[:] #CGNP.axes[1]\n",
    "data = df_plotme.values[:,:]\n",
    "\n",
    "# figure size\n",
    "#plt.figure(figsize=(20, 10))\n",
    "fig, ax = plt.subplots(figsize=(15, 3))\n",
    "\n",
    "# color scheme\n",
    "heatmap = ax.pcolormesh(data, cmap='Reds', alpha=1) # plt.cm.bwr\n",
    "    \n",
    "# add colorbar\n",
    "fig.colorbar(heatmap, ax=ax, label='log10 FPKM')#, ax=ax)\n",
    "\n",
    "# put the major ticks at the middle of each cell, notice \"reverse\" use of dimension\n",
    "ax.set_yticks(np.arange(data.shape[0])+0.5, minor=False)\n",
    "ax.set_xticks(np.arange(data.shape[1])+0.5, minor=False)\n",
    "ax.set_xticklabels(row_labels, minor=False)\n",
    "ax.set_yticklabels(column_labels, minor=False)\n",
    "ax.invert_yaxis()\n",
    "ax.xaxis.tick_top()\n",
    "#plt.xticks(rotation=90)\n",
    "\n",
    "#no frame\n",
    "ax.set_frame_on(False)\n",
    "\n",
    "# Turn off all the ticks\n",
    "ax = plt.gca()\n",
    "for t in ax.xaxis.get_major_ticks():\n",
    "    t.tick1line.set_visible(False)\n",
    "    t.tick2line.set_visible(False)\n",
    "for t in ax.yaxis.get_major_ticks():\n",
    "    t.tick1line.set_visible(False)\n",
    "    t.tick2line.set_visible(False)\n",
    "    \n",
    "plt.show()\n",
    "#fig.savefig(\"RIC-Heatmap.jpg\", dpi=300)\n",
    "#fig.savefig(\"Prot15-Heatmap.svg\", dpi=300)\n",
    "#fig.savefig(\"RIC-Heatmap.pdf\", dpi=300)"
   ]
  },
  {
   "cell_type": "markdown",
   "metadata": {},
   "source": [
    "## Clustering\n",
    "with seaborn"
   ]
  },
  {
   "cell_type": "code",
   "execution_count": 58,
   "metadata": {
    "scrolled": true
   },
   "outputs": [
    {
     "data": {
      "image/png": "[encoded data removed]",
      "text/plain": [
       "<Figure size 360x252 with 4 Axes>"
      ]
     },
     "metadata": {
      "needs_background": "light"
     },
     "output_type": "display_data"
    }
   ],
   "source": [
    "sns.clustermap(df_Heatmap, \n",
    "               metric=\"correlation\",\n",
    "               col_cluster=False,\n",
    "               #standard_scale=1,\n",
    "               cmap='Reds',\n",
    "               figsize=(5, 3.5)\n",
    "               #yticklabels=False\n",
    "              )\n",
    "plt.savefig(\"FPKM-Heatmap-Kay2021-All-cluster.svg\", dpi=300)\n",
    "plt.savefig(\"FPKM-Heatmap-Kay2021-All-cluster.png\", dpi=300)"
   ]
  },
  {
   "cell_type": "code",
   "execution_count": 59,
   "metadata": {
    "scrolled": true
   },
   "outputs": [
    {
     "data": {
      "image/png": "[encoded data removed]",
      "text/plain": [
       "<Figure size 360x252 with 4 Axes>"
      ]
     },
     "metadata": {
      "needs_background": "light"
     },
     "output_type": "display_data"
    }
   ],
   "source": [
    "sns.clustermap(df_Heatmap, \n",
    "               metric=\"correlation\",\n",
    "               col_cluster=False,\n",
    "               standard_scale=1,\n",
    "               cmap='Reds',\n",
    "               figsize=(5, 3.5)\n",
    "               #yticklabels=False\n",
    "              )\n",
    "plt.savefig(\"FPKM-Heatmap-Kay2021-All-cluster-to1.svg\", dpi=300)\n",
    "plt.savefig(\"FPKM-Heatmap-Kay2021-All-cluster-to1.png\", dpi=300)#"
   ]
  },
  {
   "cell_type": "code",
   "execution_count": 60,
   "metadata": {},
   "outputs": [
    {
     "data": {
      "text/plain": [
       "<seaborn.matrix.ClusterGrid at 0x7f72351244e0>"
      ]
     },
     "execution_count": 60,
     "metadata": {},
     "output_type": "execute_result"
    },
    {
     "data": {
      "image/png": "[encoded data removed]",
      "text/plain": [
       "<Figure size 360x252 with 4 Axes>"
      ]
     },
     "metadata": {
      "needs_background": "light"
     },
     "output_type": "display_data"
    }
   ],
   "source": [
    "sns.clustermap(log10_df_Heatmap, \n",
    "              # metric=\"correlation\",\n",
    "               col_cluster=False,\n",
    "               #standard_scale=1,\n",
    "               cmap='Reds',\n",
    "               figsize=(5, 3.5)\n",
    "               #yticklabels=False\n",
    "              )\n",
    "#plt.savefig(\"log10-FPKM-Heatmap-Kay2021-All-cluster.svg\", dpi=300)\n",
    "#plt.savefig(\"log10-FPKM-Heatmap-Kay2021-All-cluster.png\", dpi=300)"
   ]
  },
  {
   "cell_type": "code",
   "execution_count": null,
   "metadata": {},
   "outputs": [],
   "source": []
  }
 ],
 "metadata": {
  "kernelspec": {
   "display_name": "Python 3",
   "language": "python",
   "name": "python3"
  },
  "language_info": {
   "codemirror_mode": {
    "name": "ipython",
    "version": 3
   },
   "file_extension": ".py",
   "mimetype": "text/x-python",
   "name": "python",
   "nbconvert_exporter": "python",
   "pygments_lexer": "ipython3",
   "version": "3.7.0"
  }
 },
 "nbformat": 4,
 "nbformat_minor": 4
}
