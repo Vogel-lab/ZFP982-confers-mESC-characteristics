{
 "cells": [
  {
   "cell_type": "markdown",
   "metadata": {},
   "source": [
    "## Plotting Genes of interest Biase2014Cellfateinclination"
   ]
  },
  {
   "cell_type": "markdown",
   "metadata": {},
   "source": [
    "GEO: GSE57249\n",
    "http://www.genome.org/cgi/doi/10.1101/gr.177725.114.\n",
    "\n",
    "Biase2014Cellfateinclination\n",
    "\n",
    "Cell fate inclination within 2-cell and 4-cell mouse\n",
    "embryos revealed by single-cell RNA sequencing\n",
    "Fernando H. Biase, Xiaoyi Cao, and Sheng Zhong\n",
    "2014 Genome Research"
   ]
  },
  {
   "cell_type": "markdown",
   "metadata": {},
   "source": [
    "#### load modules"
   ]
  },
  {
   "cell_type": "code",
   "execution_count": 18,
   "metadata": {},
   "outputs": [],
   "source": [
    "%matplotlib inline\n",
    "import math\n",
    "import pandas as pd\n",
    "import numpy as np\n",
    "import matplotlib\n",
    "import matplotlib.pyplot as plt\n",
    "import scipy\n",
    "import scipy.cluster.hierarchy as sch\n",
    "import seaborn as sns\n",
    "\n",
    "import pylab\n",
    "from pylab import *"
   ]
  },
  {
   "cell_type": "markdown",
   "metadata": {},
   "source": [
    "## load data"
   ]
  },
  {
   "cell_type": "code",
   "execution_count": 20,
   "metadata": {},
   "outputs": [
    {
     "data": {
      "text/html": [
       "<div>\n",
       "<style scoped>\n",
       "    .dataframe tbody tr th:only-of-type {\n",
       "        vertical-align: middle;\n",
       "    }\n",
       "\n",
       "    .dataframe tbody tr th {\n",
       "        vertical-align: top;\n",
       "    }\n",
       "\n",
       "    .dataframe thead th {\n",
       "        text-align: right;\n",
       "    }\n",
       "</style>\n",
       "<table border=\"1\" class=\"dataframe\">\n",
       "  <thead>\n",
       "    <tr style=\"text-align: right;\">\n",
       "      <th></th>\n",
       "      <th>ICM1</th>\n",
       "      <th>ICM2</th>\n",
       "      <th>ICM3</th>\n",
       "      <th>ICM4</th>\n",
       "      <th>TE1</th>\n",
       "      <th>TE2</th>\n",
       "      <th>TE3</th>\n",
       "    </tr>\n",
       "    <tr>\n",
       "      <th>Gene</th>\n",
       "      <th></th>\n",
       "      <th></th>\n",
       "      <th></th>\n",
       "      <th></th>\n",
       "      <th></th>\n",
       "      <th></th>\n",
       "      <th></th>\n",
       "    </tr>\n",
       "  </thead>\n",
       "  <tbody>\n",
       "    <tr>\n",
       "      <th>Oct4</th>\n",
       "      <td>95.3039</td>\n",
       "      <td>288.556</td>\n",
       "      <td>446.761</td>\n",
       "      <td>292.712</td>\n",
       "      <td>69.3088</td>\n",
       "      <td>68.88400</td>\n",
       "      <td>25.489900</td>\n",
       "    </tr>\n",
       "    <tr>\n",
       "      <th>Nanog</th>\n",
       "      <td>26.4029</td>\n",
       "      <td>82.825</td>\n",
       "      <td>181.072</td>\n",
       "      <td>101.791</td>\n",
       "      <td>0.0000</td>\n",
       "      <td>5.32735</td>\n",
       "      <td>0.265683</td>\n",
       "    </tr>\n",
       "  </tbody>\n",
       "</table>\n",
       "</div>"
      ],
      "text/plain": [
       "          ICM1     ICM2     ICM3     ICM4      TE1       TE2        TE3\n",
       "Gene                                                                   \n",
       "Oct4   95.3039  288.556  446.761  292.712  69.3088  68.88400  25.489900\n",
       "Nanog  26.4029   82.825  181.072  101.791   0.0000   5.32735   0.265683"
      ]
     },
     "execution_count": 20,
     "metadata": {},
     "output_type": "execute_result"
    }
   ],
   "source": [
    "df_Biase = pd.read_table('./TE-ICM-Blastocyst_Biase2014.txt').set_index('Gene')\n",
    "df_Biase[:2]#.set_axis(('Gene', E), axis=1)"
   ]
  },
  {
   "cell_type": "code",
   "execution_count": 21,
   "metadata": {},
   "outputs": [],
   "source": [
    "df_Heatmap = df_Biase"
   ]
  },
  {
   "cell_type": "code",
   "execution_count": 22,
   "metadata": {},
   "outputs": [
    {
     "data": {
      "image/png": "[encoded data removed]",
      "text/plain": [
       "<Figure size 1080x216 with 2 Axes>"
      ]
     },
     "metadata": {
      "needs_background": "light"
     },
     "output_type": "display_data"
    }
   ],
   "source": [
    "df_plotme = df_Heatmap#.sort_values(by=['gene_name'], ascending=[True], inplace=False)\n",
    "\n",
    "column_labels = df_plotme.index #CGNP.axes[0]\n",
    "row_labels = df_plotme.columns[:] #CGNP.axes[1]\n",
    "data = df_plotme.values[:,:]\n",
    "\n",
    "# figure size\n",
    "#plt.figure(figsize=(20, 10))\n",
    "fig, ax = plt.subplots(figsize=(15, 3))\n",
    "\n",
    "# color scheme\n",
    "heatmap = ax.pcolormesh(data, cmap='Reds', alpha=1) # plt.cm.bwr\n",
    "    \n",
    "# add colorbar\n",
    "fig.colorbar(heatmap, ax=ax, label='log10 FPKM')#, ax=ax)\n",
    "\n",
    "# put the major ticks at the middle of each cell, notice \"reverse\" use of dimension\n",
    "ax.set_yticks(np.arange(data.shape[0])+0.5, minor=False)\n",
    "ax.set_xticks(np.arange(data.shape[1])+0.5, minor=False)\n",
    "ax.set_xticklabels(row_labels, minor=False)\n",
    "ax.set_yticklabels(column_labels, minor=False)\n",
    "ax.invert_yaxis()\n",
    "ax.xaxis.tick_top()\n",
    "#plt.xticks(rotation=90)\n",
    "\n",
    "#no frame\n",
    "ax.set_frame_on(False)\n",
    "\n",
    "# Turn off all the ticks\n",
    "ax = plt.gca()\n",
    "for t in ax.xaxis.get_major_ticks():\n",
    "    t.tick1line.set_visible(False)\n",
    "    t.tick2line.set_visible(False)\n",
    "for t in ax.yaxis.get_major_ticks():\n",
    "    t.tick1line.set_visible(False)\n",
    "    t.tick2line.set_visible(False)\n",
    "    \n",
    "plt.show()\n",
    "#fig.savefig(\"RIC-Heatmap.jpg\", dpi=300)\n",
    "#fig.savefig(\"Prot15-Heatmap.svg\", dpi=300)\n",
    "#fig.savefig(\"RIC-Heatmap.pdf\", dpi=300)"
   ]
  },
  {
   "cell_type": "code",
   "execution_count": 33,
   "metadata": {},
   "outputs": [
    {
     "data": {
      "text/html": [
       "<div>\n",
       "<style scoped>\n",
       "    .dataframe tbody tr th:only-of-type {\n",
       "        vertical-align: middle;\n",
       "    }\n",
       "\n",
       "    .dataframe tbody tr th {\n",
       "        vertical-align: top;\n",
       "    }\n",
       "\n",
       "    .dataframe thead th {\n",
       "        text-align: right;\n",
       "    }\n",
       "</style>\n",
       "<table border=\"1\" class=\"dataframe\">\n",
       "  <thead>\n",
       "    <tr style=\"text-align: right;\">\n",
       "      <th></th>\n",
       "      <th>ICM1</th>\n",
       "      <th>ICM2</th>\n",
       "      <th>ICM3</th>\n",
       "      <th>ICM4</th>\n",
       "      <th>TE1</th>\n",
       "      <th>TE2</th>\n",
       "      <th>TE3</th>\n",
       "    </tr>\n",
       "    <tr>\n",
       "      <th>Gene</th>\n",
       "      <th></th>\n",
       "      <th></th>\n",
       "      <th></th>\n",
       "      <th></th>\n",
       "      <th></th>\n",
       "      <th></th>\n",
       "      <th></th>\n",
       "    </tr>\n",
       "  </thead>\n",
       "  <tbody>\n",
       "    <tr>\n",
       "      <th>Oct4</th>\n",
       "      <td>1.979111</td>\n",
       "      <td>2.460230</td>\n",
       "      <td>2.650075</td>\n",
       "      <td>2.466441</td>\n",
       "      <td>1.840788</td>\n",
       "      <td>1.838118</td>\n",
       "      <td>1.406368</td>\n",
       "    </tr>\n",
       "    <tr>\n",
       "      <th>Nanog</th>\n",
       "      <td>1.421652</td>\n",
       "      <td>1.918161</td>\n",
       "      <td>2.257851</td>\n",
       "      <td>2.007709</td>\n",
       "      <td>-6.000000</td>\n",
       "      <td>0.726511</td>\n",
       "      <td>-0.575635</td>\n",
       "    </tr>\n",
       "  </tbody>\n",
       "</table>\n",
       "</div>"
      ],
      "text/plain": [
       "           ICM1      ICM2      ICM3      ICM4       TE1       TE2       TE3\n",
       "Gene                                                                       \n",
       "Oct4   1.979111  2.460230  2.650075  2.466441  1.840788  1.838118  1.406368\n",
       "Nanog  1.421652  1.918161  2.257851  2.007709 -6.000000  0.726511 -0.575635"
      ]
     },
     "execution_count": 33,
     "metadata": {},
     "output_type": "execute_result"
    }
   ],
   "source": [
    "log10_df_Heatmap = np.log10(df_Heatmap + 0.000001)\n",
    "log10_df_Heatmap[:2]"
   ]
  },
  {
   "cell_type": "code",
   "execution_count": 34,
   "metadata": {
    "scrolled": true
   },
   "outputs": [
    {
     "data": {
      "image/png": "[encoded data removed]",
      "text/plain": [
       "<Figure size 1080x216 with 2 Axes>"
      ]
     },
     "metadata": {
      "needs_background": "light"
     },
     "output_type": "display_data"
    }
   ],
   "source": [
    "df_plotme = log10_df_Heatmap#\n",
    "\n",
    "column_labels = df_plotme.index #CGNP.axes[0]\n",
    "row_labels = df_plotme.columns[:] #CGNP.axes[1]\n",
    "data = df_plotme.values[:,:]\n",
    "\n",
    "# figure size\n",
    "#plt.figure(figsize=(20, 10))\n",
    "fig, ax = plt.subplots(figsize=(15, 3))\n",
    "\n",
    "# color scheme\n",
    "heatmap = ax.pcolormesh(data, cmap='Reds', alpha=1) # plt.cm.bwr\n",
    "    \n",
    "# add colorbar\n",
    "fig.colorbar(heatmap, ax=ax, label='log10 FPKM')#, ax=ax)\n",
    "\n",
    "# put the major ticks at the middle of each cell, notice \"reverse\" use of dimension\n",
    "ax.set_yticks(np.arange(data.shape[0])+0.5, minor=False)\n",
    "ax.set_xticks(np.arange(data.shape[1])+0.5, minor=False)\n",
    "ax.set_xticklabels(row_labels, minor=False)\n",
    "ax.set_yticklabels(column_labels, minor=False)\n",
    "ax.invert_yaxis()\n",
    "ax.xaxis.tick_top()\n",
    "#plt.xticks(rotation=90)\n",
    "\n",
    "#no frame\n",
    "ax.set_frame_on(False)\n",
    "\n",
    "# Turn off all the ticks\n",
    "ax = plt.gca()\n",
    "for t in ax.xaxis.get_major_ticks():\n",
    "    t.tick1line.set_visible(False)\n",
    "    t.tick2line.set_visible(False)\n",
    "for t in ax.yaxis.get_major_ticks():\n",
    "    t.tick1line.set_visible(False)\n",
    "    t.tick2line.set_visible(False)\n",
    "    \n",
    "plt.show()\n",
    "#fig.savefig(\"RIC-Heatmap.jpg\", dpi=300)\n",
    "#fig.savefig(\"Prot15-Heatmap.svg\", dpi=300)\n",
    "#fig.savefig(\"RIC-Heatmap.pdf\", dpi=300)"
   ]
  },
  {
   "cell_type": "markdown",
   "metadata": {},
   "source": [
    "## Clustering\n",
    "with seaborn"
   ]
  },
  {
   "cell_type": "code",
   "execution_count": 47,
   "metadata": {
    "scrolled": true
   },
   "outputs": [
    {
     "data": {
      "image/png": "[encoded data removed]",
      "text/plain": [
       "<Figure size 360x216 with 4 Axes>"
      ]
     },
     "metadata": {
      "needs_background": "light"
     },
     "output_type": "display_data"
    }
   ],
   "source": [
    "sns.clustermap(df_Heatmap, \n",
    "              #metric=\"correlation\",\n",
    "               col_cluster=False,\n",
    "               #standard_scale=1,\n",
    "               cmap='Reds',\n",
    "               figsize=(5, 3)\n",
    "               yticklabels=False\n",
    "              )\n",
    "plt.savefig(\"FPKM-Heatmap-Biase-All-cluster.svg\", dpi=300)\n",
    "plt.savefig(\"FPKM-Heatmap-Biase-All-cluster.png\", dpi=300)"
   ]
  },
  {
   "cell_type": "code",
   "execution_count": 39,
   "metadata": {
    "scrolled": true
   },
   "outputs": [
    {
     "data": {
      "image/png": "[encoded data removed]",
      "text/plain": [
       "<Figure size 360x252 with 4 Axes>"
      ]
     },
     "metadata": {
      "needs_background": "light"
     },
     "output_type": "display_data"
    }
   ],
   "source": [
    "sns.clustermap(df_Heatmap, \n",
    "               #metric=\"correlation\",\n",
    "               col_cluster=False,\n",
    "               standard_scale=1,\n",
    "               cmap='Reds',\n",
    "               figsize=(5, 3.5)\n",
    "               #yticklabels=False\n",
    "              )\n",
    "plt.savefig(\"FPKM-Heatmap-Biase-All-cluster-to1.svg\", dpi=300)\n",
    "plt.savefig(\"FPKM-Heatmap-Biase-All-cluster-to1.png\", dpi=300)#"
   ]
  },
  {
   "cell_type": "code",
   "execution_count": 40,
   "metadata": {},
   "outputs": [
    {
     "data": {
      "text/plain": [
       "<seaborn.matrix.ClusterGrid at 0x7f8b66b4da90>"
      ]
     },
     "execution_count": 40,
     "metadata": {},
     "output_type": "execute_result"
    },
    {
     "data": {
      "image/png": "[encoded data removed]",
      "text/plain": [
       "<Figure size 360x252 with 4 Axes>"
      ]
     },
     "metadata": {
      "needs_background": "light"
     },
     "output_type": "display_data"
    }
   ],
   "source": [
    "sns.clustermap(log10_df_Heatmap, \n",
    "               metric=\"correlation\",\n",
    "               col_cluster=False,\n",
    "               #standard_scale=1,\n",
    "               cmap='Reds',\n",
    "               figsize=(5, 3.5)\n",
    "               #yticklabels=False\n",
    "              )\n",
    "#plt.savefig(\"log10-FPKM-Heatmap-Biase-All-cluster.svg\", dpi=300)\n",
    "#plt.savefig(\"log10-FPKM-Heatmap-Biase-All-cluster.png\", dpi=300)"
   ]
  },
  {
   "cell_type": "code",
   "execution_count": null,
   "metadata": {},
   "outputs": [],
   "source": []
  },
  {
   "cell_type": "code",
   "execution_count": null,
   "metadata": {},
   "outputs": [],
   "source": []
  }
 ],
 "metadata": {
  "kernelspec": {
   "display_name": "Python 3",
   "language": "python",
   "name": "python3"
  },
  "language_info": {
   "codemirror_mode": {
    "name": "ipython",
    "version": 3
   },
   "file_extension": ".py",
   "mimetype": "text/x-python",
   "name": "python",
   "nbconvert_exporter": "python",
   "pygments_lexer": "ipython3",
   "version": "3.7.0"
  }
 },
 "nbformat": 4,
 "nbformat_minor": 4
}
