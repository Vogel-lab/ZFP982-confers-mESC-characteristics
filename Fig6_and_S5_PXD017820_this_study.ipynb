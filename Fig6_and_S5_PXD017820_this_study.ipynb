{
 "cells": [
  {
   "cell_type": "markdown",
   "metadata": {},
   "source": [
    "# Heatmaps for SILAC and GOs"
   ]
  },
  {
   "cell_type": "code",
   "execution_count": 1,
   "metadata": {},
   "outputs": [],
   "source": [
    "%matplotlib inline\n",
    "import pandas as pd\n",
    "import numpy as np\n",
    "import matplotlib\n",
    "import matplotlib.pyplot as plt\n",
    "import scipy\n",
    "import pylab\n",
    "import scipy.cluster.hierarchy as sch\n",
    "\n",
    "from pylab import *"
   ]
  },
  {
   "cell_type": "markdown",
   "metadata": {},
   "source": [
    "### 1.5 FC SILAC ZFP982 OE"
   ]
  },
  {
   "cell_type": "code",
   "execution_count": 2,
   "metadata": {},
   "outputs": [
    {
     "name": "stdout",
     "output_type": "stream",
     "text": [
      "  Protein      FC        P value\n",
      "0   Vldlr  14.960  5.090000e-295\n",
      "1  ZFP982  10.500  1.290000e-288\n",
      "2    Rpsa   7.477  1.800000e-267\n",
      "  Cytoplasm Nucleus TEAD-2-YAP_complex Embryo Embryonic_cell_line\n",
      "0     Rpl13    Ern1               Yap1  Tubb5                Akt1\n",
      "1      Ern1   Tubb5              Tead2   Akt1              Ctnnb1\n",
      "2     Tubb5    Akt1                NaN   Calr            Hsp90ab1\n"
     ]
    }
   ],
   "source": [
    "#import pandas as pd\n",
    "df_Prot15 = pd.read_table('SILAC_results_for_ZFP982_1.5FC.txt')#, index_col=0)#, row_labels=0)\n",
    "df_GenesGO = pd.read_table('SILAC_results_for_ZFP982_Genes_in_Term.txt')#, index_col=0)#, row_labels=0)\n",
    "\n",
    "#column_labels = actregs.index #actregs.axes[0]\n",
    "#row_labels = actregs.columns #actregs.axes[1]\n",
    "#data = actregs.values\n",
    "\n",
    "print(df_Prot15.head(3))\n",
    "print(df_GenesGO.head(3))"
   ]
  },
  {
   "cell_type": "code",
   "execution_count": 3,
   "metadata": {
    "scrolled": false
   },
   "outputs": [
    {
     "data": {
      "text/html": [
       "<div>\n",
       "<style scoped>\n",
       "    .dataframe tbody tr th:only-of-type {\n",
       "        vertical-align: middle;\n",
       "    }\n",
       "\n",
       "    .dataframe tbody tr th {\n",
       "        vertical-align: top;\n",
       "    }\n",
       "\n",
       "    .dataframe thead th {\n",
       "        text-align: right;\n",
       "    }\n",
       "</style>\n",
       "<table border=\"1\" class=\"dataframe\">\n",
       "  <thead>\n",
       "    <tr style=\"text-align: right;\">\n",
       "      <th></th>\n",
       "      <th>Cytoplasm</th>\n",
       "      <th>Nucleus</th>\n",
       "      <th>TEAD-2-YAP_complex</th>\n",
       "      <th>Embryo</th>\n",
       "      <th>Embryonic_cell_line</th>\n",
       "    </tr>\n",
       "  </thead>\n",
       "  <tbody>\n",
       "    <tr>\n",
       "      <th>0</th>\n",
       "      <td>Rpl13</td>\n",
       "      <td>Ern1</td>\n",
       "      <td>Yap1</td>\n",
       "      <td>Tubb5</td>\n",
       "      <td>Akt1</td>\n",
       "    </tr>\n",
       "    <tr>\n",
       "      <th>1</th>\n",
       "      <td>Ern1</td>\n",
       "      <td>Tubb5</td>\n",
       "      <td>Tead2</td>\n",
       "      <td>Akt1</td>\n",
       "      <td>Ctnnb1</td>\n",
       "    </tr>\n",
       "    <tr>\n",
       "      <th>2</th>\n",
       "      <td>Tubb5</td>\n",
       "      <td>Akt1</td>\n",
       "      <td>NaN</td>\n",
       "      <td>Calr</td>\n",
       "      <td>Hsp90ab1</td>\n",
       "    </tr>\n",
       "  </tbody>\n",
       "</table>\n",
       "</div>"
      ],
      "text/plain": [
       "  Cytoplasm Nucleus TEAD-2-YAP_complex Embryo Embryonic_cell_line\n",
       "0     Rpl13    Ern1               Yap1  Tubb5                Akt1\n",
       "1      Ern1   Tubb5              Tead2   Akt1              Ctnnb1\n",
       "2     Tubb5    Akt1                NaN   Calr            Hsp90ab1"
      ]
     },
     "execution_count": 3,
     "metadata": {},
     "output_type": "execute_result"
    }
   ],
   "source": [
    " df_GenesGO.head(3)"
   ]
  },
  {
   "cell_type": "markdown",
   "metadata": {},
   "source": [
    "### Slice columns"
   ]
  },
  {
   "cell_type": "code",
   "execution_count": 4,
   "metadata": {
    "scrolled": true
   },
   "outputs": [
    {
     "data": {
      "text/html": [
       "<div>\n",
       "<style scoped>\n",
       "    .dataframe tbody tr th:only-of-type {\n",
       "        vertical-align: middle;\n",
       "    }\n",
       "\n",
       "    .dataframe tbody tr th {\n",
       "        vertical-align: top;\n",
       "    }\n",
       "\n",
       "    .dataframe thead th {\n",
       "        text-align: right;\n",
       "    }\n",
       "</style>\n",
       "<table border=\"1\" class=\"dataframe\">\n",
       "  <thead>\n",
       "    <tr style=\"text-align: right;\">\n",
       "      <th></th>\n",
       "      <th>Cytoplasm</th>\n",
       "    </tr>\n",
       "  </thead>\n",
       "  <tbody>\n",
       "    <tr>\n",
       "      <th>0</th>\n",
       "      <td>Rpl13</td>\n",
       "    </tr>\n",
       "    <tr>\n",
       "      <th>1</th>\n",
       "      <td>Ern1</td>\n",
       "    </tr>\n",
       "    <tr>\n",
       "      <th>2</th>\n",
       "      <td>Tubb5</td>\n",
       "    </tr>\n",
       "  </tbody>\n",
       "</table>\n",
       "</div>"
      ],
      "text/plain": [
       "  Cytoplasm\n",
       "0     Rpl13\n",
       "1      Ern1\n",
       "2     Tubb5"
      ]
     },
     "execution_count": 4,
     "metadata": {},
     "output_type": "execute_result"
    }
   ],
   "source": [
    "df_Cytoplasm = df_GenesGO.loc[:,['Cytoplasm']]\n",
    "df_Cytoplasm.head(3)"
   ]
  },
  {
   "cell_type": "code",
   "execution_count": 5,
   "metadata": {
    "scrolled": true
   },
   "outputs": [
    {
     "data": {
      "text/html": [
       "<div>\n",
       "<style scoped>\n",
       "    .dataframe tbody tr th:only-of-type {\n",
       "        vertical-align: middle;\n",
       "    }\n",
       "\n",
       "    .dataframe tbody tr th {\n",
       "        vertical-align: top;\n",
       "    }\n",
       "\n",
       "    .dataframe thead th {\n",
       "        text-align: right;\n",
       "    }\n",
       "</style>\n",
       "<table border=\"1\" class=\"dataframe\">\n",
       "  <thead>\n",
       "    <tr style=\"text-align: right;\">\n",
       "      <th></th>\n",
       "      <th>Nucleus</th>\n",
       "    </tr>\n",
       "  </thead>\n",
       "  <tbody>\n",
       "    <tr>\n",
       "      <th>0</th>\n",
       "      <td>Ern1</td>\n",
       "    </tr>\n",
       "    <tr>\n",
       "      <th>1</th>\n",
       "      <td>Tubb5</td>\n",
       "    </tr>\n",
       "    <tr>\n",
       "      <th>2</th>\n",
       "      <td>Akt1</td>\n",
       "    </tr>\n",
       "  </tbody>\n",
       "</table>\n",
       "</div>"
      ],
      "text/plain": [
       "  Nucleus\n",
       "0    Ern1\n",
       "1   Tubb5\n",
       "2    Akt1"
      ]
     },
     "execution_count": 5,
     "metadata": {},
     "output_type": "execute_result"
    }
   ],
   "source": [
    "df_Nucleus = df_GenesGO.loc[:,['Nucleus']]\n",
    "df_Nucleus.head(3)"
   ]
  },
  {
   "cell_type": "code",
   "execution_count": 6,
   "metadata": {
    "scrolled": true
   },
   "outputs": [
    {
     "data": {
      "text/html": [
       "<div>\n",
       "<style scoped>\n",
       "    .dataframe tbody tr th:only-of-type {\n",
       "        vertical-align: middle;\n",
       "    }\n",
       "\n",
       "    .dataframe tbody tr th {\n",
       "        vertical-align: top;\n",
       "    }\n",
       "\n",
       "    .dataframe thead th {\n",
       "        text-align: right;\n",
       "    }\n",
       "</style>\n",
       "<table border=\"1\" class=\"dataframe\">\n",
       "  <thead>\n",
       "    <tr style=\"text-align: right;\">\n",
       "      <th></th>\n",
       "      <th>TEAD-2-YAP_complex</th>\n",
       "    </tr>\n",
       "  </thead>\n",
       "  <tbody>\n",
       "    <tr>\n",
       "      <th>0</th>\n",
       "      <td>Yap1</td>\n",
       "    </tr>\n",
       "    <tr>\n",
       "      <th>1</th>\n",
       "      <td>Tead2</td>\n",
       "    </tr>\n",
       "    <tr>\n",
       "      <th>2</th>\n",
       "      <td>NaN</td>\n",
       "    </tr>\n",
       "  </tbody>\n",
       "</table>\n",
       "</div>"
      ],
      "text/plain": [
       "  TEAD-2-YAP_complex\n",
       "0               Yap1\n",
       "1              Tead2\n",
       "2                NaN"
      ]
     },
     "execution_count": 6,
     "metadata": {},
     "output_type": "execute_result"
    }
   ],
   "source": [
    "df_YAPcomp = df_GenesGO.loc[:,['TEAD-2-YAP_complex']]\n",
    "df_YAPcomp.head(3)"
   ]
  },
  {
   "cell_type": "code",
   "execution_count": 7,
   "metadata": {
    "scrolled": false
   },
   "outputs": [
    {
     "data": {
      "text/html": [
       "<div>\n",
       "<style scoped>\n",
       "    .dataframe tbody tr th:only-of-type {\n",
       "        vertical-align: middle;\n",
       "    }\n",
       "\n",
       "    .dataframe tbody tr th {\n",
       "        vertical-align: top;\n",
       "    }\n",
       "\n",
       "    .dataframe thead th {\n",
       "        text-align: right;\n",
       "    }\n",
       "</style>\n",
       "<table border=\"1\" class=\"dataframe\">\n",
       "  <thead>\n",
       "    <tr style=\"text-align: right;\">\n",
       "      <th></th>\n",
       "      <th>Embryo</th>\n",
       "    </tr>\n",
       "  </thead>\n",
       "  <tbody>\n",
       "    <tr>\n",
       "      <th>0</th>\n",
       "      <td>Tubb5</td>\n",
       "    </tr>\n",
       "    <tr>\n",
       "      <th>1</th>\n",
       "      <td>Akt1</td>\n",
       "    </tr>\n",
       "    <tr>\n",
       "      <th>2</th>\n",
       "      <td>Calr</td>\n",
       "    </tr>\n",
       "  </tbody>\n",
       "</table>\n",
       "</div>"
      ],
      "text/plain": [
       "  Embryo\n",
       "0  Tubb5\n",
       "1   Akt1\n",
       "2   Calr"
      ]
     },
     "execution_count": 7,
     "metadata": {},
     "output_type": "execute_result"
    }
   ],
   "source": [
    "df_Embryo = df_GenesGO.loc[:,['Embryo']]\n",
    "df_Embryo.head(3)"
   ]
  },
  {
   "cell_type": "code",
   "execution_count": 8,
   "metadata": {
    "scrolled": false
   },
   "outputs": [
    {
     "data": {
      "text/html": [
       "<div>\n",
       "<style scoped>\n",
       "    .dataframe tbody tr th:only-of-type {\n",
       "        vertical-align: middle;\n",
       "    }\n",
       "\n",
       "    .dataframe tbody tr th {\n",
       "        vertical-align: top;\n",
       "    }\n",
       "\n",
       "    .dataframe thead th {\n",
       "        text-align: right;\n",
       "    }\n",
       "</style>\n",
       "<table border=\"1\" class=\"dataframe\">\n",
       "  <thead>\n",
       "    <tr style=\"text-align: right;\">\n",
       "      <th></th>\n",
       "      <th>Embryonic_cell_line</th>\n",
       "    </tr>\n",
       "  </thead>\n",
       "  <tbody>\n",
       "    <tr>\n",
       "      <th>0</th>\n",
       "      <td>Akt1</td>\n",
       "    </tr>\n",
       "    <tr>\n",
       "      <th>1</th>\n",
       "      <td>Ctnnb1</td>\n",
       "    </tr>\n",
       "    <tr>\n",
       "      <th>2</th>\n",
       "      <td>Hsp90ab1</td>\n",
       "    </tr>\n",
       "  </tbody>\n",
       "</table>\n",
       "</div>"
      ],
      "text/plain": [
       "  Embryonic_cell_line\n",
       "0                Akt1\n",
       "1              Ctnnb1\n",
       "2            Hsp90ab1"
      ]
     },
     "execution_count": 8,
     "metadata": {},
     "output_type": "execute_result"
    }
   ],
   "source": [
    "df_EmbEmbryonic_cell_line = df_GenesGO.loc[:,['Embryonic_cell_line']]\n",
    "df_EmbEmbryonic_cell_line.head(3)"
   ]
  },
  {
   "cell_type": "markdown",
   "metadata": {},
   "source": [
    "# Intersect tables"
   ]
  },
  {
   "cell_type": "markdown",
   "metadata": {},
   "source": [
    "## test "
   ]
  },
  {
   "cell_type": "code",
   "execution_count": 9,
   "metadata": {},
   "outputs": [],
   "source": [
    "#intersection test \n",
    "#pd.Series(np.intersect1d(pd.Series([1,2,3,5,42]), pd.Series([4,5,6,20,42])))"
   ]
  },
  {
   "cell_type": "code",
   "execution_count": 10,
   "metadata": {
    "scrolled": false
   },
   "outputs": [
    {
     "name": "stdout",
     "output_type": "stream",
     "text": [
      "   A    B\n",
      "0  1  abc\n",
      "1  2  def\n",
      "2  3  efg\n",
      "3  4  ghi\n",
      "   A      B        C\n",
      "0  1  Geeks   Nikhil\n",
      "1  2    For  Rishabh\n",
      "2  3    efg    Rahul\n",
      "3  4    ghi  Shubham\n",
      "4  5   some    Hanna\n"
     ]
    }
   ],
   "source": [
    "import pandas as pd\n",
    "  \n",
    "# Creating Data frames\n",
    "df1 = {'A': [1, 2, 3, 4],\n",
    "         'B': ['abc', 'def', 'efg', 'ghi']} \n",
    "df2 = {'A': [1, 2, 3, 4, 5 ],\n",
    "         'B': ['Geeks', 'For', 'efg', 'ghi', 'some'],\n",
    "         'C':['Nikhil', 'Rishabh', 'Rahul', 'Shubham', 'Hanna']} \n",
    "           \n",
    "d1 = pd.DataFrame(df1)\n",
    "d2 = pd.DataFrame(df2) \n",
    "\n",
    "print(d1)\n",
    "print(d2)"
   ]
  },
  {
   "cell_type": "code",
   "execution_count": 11,
   "metadata": {
    "scrolled": true
   },
   "outputs": [
    {
     "data": {
      "text/plain": [
       "RangeIndex(start=0, stop=5, step=1)"
      ]
     },
     "execution_count": 11,
     "metadata": {},
     "output_type": "execute_result"
    }
   ],
   "source": [
    "d2.index"
   ]
  },
  {
   "cell_type": "code",
   "execution_count": 12,
   "metadata": {
    "scrolled": true
   },
   "outputs": [
    {
     "name": "stdout",
     "output_type": "stream",
     "text": [
      "   A    B        C\n",
      "0  3  efg    Rahul\n",
      "1  4  ghi  Shubham\n"
     ]
    }
   ],
   "source": [
    "# Calling merge() function\n",
    "int_df = pd.merge(d1, d2, how ='inner', on =['A', 'B'])\n",
    "print(int_df)"
   ]
  },
  {
   "cell_type": "code",
   "execution_count": 13,
   "metadata": {},
   "outputs": [
    {
     "name": "stdout",
     "output_type": "stream",
     "text": [
      "161 119\n"
     ]
    }
   ],
   "source": [
    "print(len(df_Prot15), \n",
    "      len(df_Cytoplasm))"
   ]
  },
  {
   "cell_type": "code",
   "execution_count": 14,
   "metadata": {},
   "outputs": [
    {
     "name": "stdout",
     "output_type": "stream",
     "text": [
      "161 119\n"
     ]
    }
   ],
   "source": [
    "df_ndup_Prot15 = df_Prot15.drop_duplicates(subset='Protein')\n",
    "df_ndup_Cytoplasm = df_Cytoplasm.drop_duplicates(subset='Cytoplasm')\n",
    "\n",
    "print(len(df_ndup_Prot15),\n",
    "      len(df_ndup_Cytoplasm))"
   ]
  },
  {
   "cell_type": "code",
   "execution_count": 15,
   "metadata": {
    "scrolled": true
   },
   "outputs": [
    {
     "data": {
      "text/plain": [
       "array([['Rpl13'],\n",
       "       ['Ern1'],\n",
       "       ['Tubb5'],\n",
       "       ['Akt1'],\n",
       "       ['Ndufa11']], dtype=object)"
      ]
     },
     "execution_count": 15,
     "metadata": {},
     "output_type": "execute_result"
    }
   ],
   "source": [
    "df_Cytoplasm.values[:5,:1]"
   ]
  },
  {
   "cell_type": "markdown",
   "metadata": {},
   "source": [
    "## ZFP982 1.5 FC GO intersection"
   ]
  },
  {
   "cell_type": "code",
   "execution_count": 16,
   "metadata": {},
   "outputs": [
    {
     "data": {
      "text/html": [
       "<div>\n",
       "<style scoped>\n",
       "    .dataframe tbody tr th:only-of-type {\n",
       "        vertical-align: middle;\n",
       "    }\n",
       "\n",
       "    .dataframe tbody tr th {\n",
       "        vertical-align: top;\n",
       "    }\n",
       "\n",
       "    .dataframe thead th {\n",
       "        text-align: right;\n",
       "    }\n",
       "</style>\n",
       "<table border=\"1\" class=\"dataframe\">\n",
       "  <thead>\n",
       "    <tr style=\"text-align: right;\">\n",
       "      <th></th>\n",
       "      <th>Protein</th>\n",
       "    </tr>\n",
       "  </thead>\n",
       "  <tbody>\n",
       "    <tr>\n",
       "      <th>0</th>\n",
       "      <td>Rpl13</td>\n",
       "    </tr>\n",
       "    <tr>\n",
       "      <th>1</th>\n",
       "      <td>Ern1</td>\n",
       "    </tr>\n",
       "    <tr>\n",
       "      <th>2</th>\n",
       "      <td>Tubb5</td>\n",
       "    </tr>\n",
       "  </tbody>\n",
       "</table>\n",
       "</div>"
      ],
      "text/plain": [
       "  Protein\n",
       "0   Rpl13\n",
       "1    Ern1\n",
       "2   Tubb5"
      ]
     },
     "execution_count": 16,
     "metadata": {},
     "output_type": "execute_result"
    }
   ],
   "source": [
    "df_Cytoplasm.rename(columns = {'Cytoplasm':'Protein'}, inplace = True)\n",
    "df_Cytoplasm.head(3)"
   ]
  },
  {
   "cell_type": "code",
   "execution_count": 17,
   "metadata": {
    "scrolled": true
   },
   "outputs": [
    {
     "name": "stdout",
     "output_type": "stream",
     "text": [
      "      Protein     FC        P value\n",
      "0        Rpsa  7.477  1.800000e-267\n",
      "1       Prdx6  7.121  2.210000e-267\n",
      "2      Chchd2  7.064  3.920000e-257\n",
      "3        Btf3  6.174  3.530000e-240\n",
      "4    Hsp90ab1  5.409  1.270000e-188\n",
      "..        ...    ...            ...\n",
      "100    Eif4a3  1.500   8.840000e-17\n",
      "101   Hnrnpab  1.586   9.460000e-17\n",
      "102     Hspa9  1.558   1.100000e-16\n",
      "103    Prkcsh  1.555   1.240000e-16\n",
      "104     Erp29  1.517   1.580000e-16\n",
      "\n",
      "[105 rows x 3 columns]\n"
     ]
    }
   ],
   "source": [
    "int_df_Cytoplasm = pd.merge(df_Prot15, df_Cytoplasm, how ='inner', on =['Protein'])\n",
    "print(int_df_Cytoplasm)"
   ]
  },
  {
   "cell_type": "code",
   "execution_count": 18,
   "metadata": {
    "scrolled": true
   },
   "outputs": [
    {
     "name": "stdout",
     "output_type": "stream",
     "text": [
      "   Protein     FC        P value\n",
      "0     Rpsa  7.477  1.800000e-267\n",
      "1     Btf3  6.174  3.530000e-240\n",
      "2   Serbp1  5.779  4.580000e-238\n",
      "3    Sumo3  5.534  2.280000e-211\n",
      "4    Sumo2  5.473  1.820000e-203\n",
      "..     ...    ...            ...\n",
      "68   Hspb1  1.541   2.300000e-20\n",
      "69   Hmgn1  1.510   1.330000e-19\n",
      "70     Ncl  1.562   3.410000e-19\n",
      "71   Srsf7  1.503   7.210000e-17\n",
      "72  Eif4a3  1.500   8.840000e-17\n",
      "\n",
      "[73 rows x 3 columns]\n"
     ]
    }
   ],
   "source": [
    "df_Nucleus.rename(columns = {'Nucleus':'Protein'}, inplace = True)\n",
    "\n",
    "int_df_Nucleus = pd.merge(df_Prot15, df_Nucleus, how ='inner', on =['Protein'])\n",
    "print(int_df_Nucleus)"
   ]
  },
  {
   "cell_type": "markdown",
   "metadata": {},
   "source": [
    "## export to excel sheet"
   ]
  },
  {
   "cell_type": "code",
   "execution_count": 35,
   "metadata": {},
   "outputs": [],
   "source": [
    "int_df_Cytoplasm.set_index('Protein').to_excel('int_df_Cytoplasm.xlsx', sheet_name='int_df_Cytoplasm')"
   ]
  },
  {
   "cell_type": "code",
   "execution_count": 36,
   "metadata": {},
   "outputs": [],
   "source": [
    "int_df_Nucleus.set_index('Protein').to_excel('int_df_Nucleus.xlsx', sheet_name='int_df_Nucleus')"
   ]
  },
  {
   "cell_type": "markdown",
   "metadata": {},
   "source": [
    "GO analyse performed by ShinyGO v0.75: http://bioinformatics.sdstate.edu/go/\n",
    "\n",
    "Cite:\n",
    " Ge SX, Jung D & Yao R, Bioinformatics 2020 \n",
    " https://doi.org/10.1093/bioinformatics/btz931"
   ]
  },
  {
   "cell_type": "code",
   "execution_count": 20,
   "metadata": {
    "scrolled": true
   },
   "outputs": [],
   "source": [
    "#sort_actregs_R = actregs.sort_values(by=['RatioKClvsControl'], ascending=[False], inplace=True)\n",
    "#sort_actregs_R.head(1)"
   ]
  },
  {
   "cell_type": "markdown",
   "metadata": {},
   "source": [
    "# Heatmap Plotting"
   ]
  },
  {
   "cell_type": "code",
   "execution_count": 21,
   "metadata": {
    "scrolled": false
   },
   "outputs": [
    {
     "data": {
      "text/plain": [
       "RangeIndex(start=0, stop=161, step=1)"
      ]
     },
     "execution_count": 21,
     "metadata": {},
     "output_type": "execute_result"
    }
   ],
   "source": [
    "df_Prot15.index"
   ]
  },
  {
   "cell_type": "code",
   "execution_count": 22,
   "metadata": {
    "scrolled": true
   },
   "outputs": [
    {
     "data": {
      "text/html": [
       "<div>\n",
       "<style scoped>\n",
       "    .dataframe tbody tr th:only-of-type {\n",
       "        vertical-align: middle;\n",
       "    }\n",
       "\n",
       "    .dataframe tbody tr th {\n",
       "        vertical-align: top;\n",
       "    }\n",
       "\n",
       "    .dataframe thead th {\n",
       "        text-align: right;\n",
       "    }\n",
       "</style>\n",
       "<table border=\"1\" class=\"dataframe\">\n",
       "  <thead>\n",
       "    <tr style=\"text-align: right;\">\n",
       "      <th></th>\n",
       "      <th>FC</th>\n",
       "      <th>P value</th>\n",
       "    </tr>\n",
       "    <tr>\n",
       "      <th>Protein</th>\n",
       "      <th></th>\n",
       "      <th></th>\n",
       "    </tr>\n",
       "  </thead>\n",
       "  <tbody>\n",
       "    <tr>\n",
       "      <th>Vldlr</th>\n",
       "      <td>14.960</td>\n",
       "      <td>5.090000e-295</td>\n",
       "    </tr>\n",
       "    <tr>\n",
       "      <th>ZFP982</th>\n",
       "      <td>10.500</td>\n",
       "      <td>1.290000e-288</td>\n",
       "    </tr>\n",
       "    <tr>\n",
       "      <th>Rpsa</th>\n",
       "      <td>7.477</td>\n",
       "      <td>1.800000e-267</td>\n",
       "    </tr>\n",
       "    <tr>\n",
       "      <th>Prdx6</th>\n",
       "      <td>7.121</td>\n",
       "      <td>2.210000e-267</td>\n",
       "    </tr>\n",
       "    <tr>\n",
       "      <th>Chchd2</th>\n",
       "      <td>7.064</td>\n",
       "      <td>3.920000e-257</td>\n",
       "    </tr>\n",
       "    <tr>\n",
       "      <th>...</th>\n",
       "      <td>...</td>\n",
       "      <td>...</td>\n",
       "    </tr>\n",
       "    <tr>\n",
       "      <th>Eif4a3</th>\n",
       "      <td>1.500</td>\n",
       "      <td>8.840000e-17</td>\n",
       "    </tr>\n",
       "    <tr>\n",
       "      <th>Hnrnpab</th>\n",
       "      <td>1.586</td>\n",
       "      <td>9.460000e-17</td>\n",
       "    </tr>\n",
       "    <tr>\n",
       "      <th>Hspa9</th>\n",
       "      <td>1.558</td>\n",
       "      <td>1.100000e-16</td>\n",
       "    </tr>\n",
       "    <tr>\n",
       "      <th>Prkcsh</th>\n",
       "      <td>1.555</td>\n",
       "      <td>1.240000e-16</td>\n",
       "    </tr>\n",
       "    <tr>\n",
       "      <th>Erp29</th>\n",
       "      <td>1.517</td>\n",
       "      <td>1.580000e-16</td>\n",
       "    </tr>\n",
       "  </tbody>\n",
       "</table>\n",
       "<p>161 rows × 2 columns</p>\n",
       "</div>"
      ],
      "text/plain": [
       "             FC        P value\n",
       "Protein                       \n",
       "Vldlr    14.960  5.090000e-295\n",
       "ZFP982   10.500  1.290000e-288\n",
       "Rpsa      7.477  1.800000e-267\n",
       "Prdx6     7.121  2.210000e-267\n",
       "Chchd2    7.064  3.920000e-257\n",
       "...         ...            ...\n",
       "Eif4a3    1.500   8.840000e-17\n",
       "Hnrnpab   1.586   9.460000e-17\n",
       "Hspa9     1.558   1.100000e-16\n",
       "Prkcsh    1.555   1.240000e-16\n",
       "Erp29     1.517   1.580000e-16\n",
       "\n",
       "[161 rows x 2 columns]"
      ]
     },
     "execution_count": 22,
     "metadata": {},
     "output_type": "execute_result"
    }
   ],
   "source": [
    "df_Prot15.set_index('Protein')"
   ]
  },
  {
   "cell_type": "code",
   "execution_count": 23,
   "metadata": {},
   "outputs": [
    {
     "data": {
      "text/plain": [
       "Index(['FC', 'P value'], dtype='object')"
      ]
     },
     "execution_count": 23,
     "metadata": {},
     "output_type": "execute_result"
    }
   ],
   "source": [
    "df_Prot15.set_index('Protein').columns[:]"
   ]
  },
  {
   "cell_type": "code",
   "execution_count": 24,
   "metadata": {
    "scrolled": false
   },
   "outputs": [
    {
     "data": {
      "text/plain": [
       "array([[1.496e+001, 5.090e-295],\n",
       "       [1.050e+001, 1.290e-288],\n",
       "       [7.477e+000, 1.800e-267]])"
      ]
     },
     "execution_count": 24,
     "metadata": {},
     "output_type": "execute_result"
    }
   ],
   "source": [
    "df_Prot15.set_index('Protein').values[:3,:]"
   ]
  },
  {
   "cell_type": "code",
   "execution_count": 25,
   "metadata": {
    "scrolled": true
   },
   "outputs": [
    {
     "data": {
      "image/png": "[encoded data removed]",
      "text/plain": [
       "<Figure size 36x2160 with 2 Axes>"
      ]
     },
     "metadata": {
      "needs_background": "light"
     },
     "output_type": "display_data"
    }
   ],
   "source": [
    "df_indexed = df_Prot15.set_index('Protein')\n",
    "\n",
    "column_labels = df_indexed.index #CGNP.axes[0]\n",
    "row_labels = df_indexed.columns[:1] #CGNP.axes[1]\n",
    "data = df_indexed.values[:,:1]\n",
    "\n",
    "# figure size\n",
    "#plt.figure(figsize=(20, 10))\n",
    "fig, ax = plt.subplots(figsize=(0.5, 30))\n",
    "\n",
    "# color scheme\n",
    "heatmap = ax.pcolormesh(data, cmap='Reds', alpha=1) # plt.cm.bwr\n",
    "    \n",
    "# add colorbar\n",
    "fig.colorbar(heatmap, ax=ax)#, ax=ax)\n",
    "\n",
    "# put the major ticks at the middle of each cell, notice \"reverse\" use of dimension\n",
    "ax.set_yticks(np.arange(data.shape[0])+0.5, minor=False)\n",
    "ax.set_xticks(np.arange(data.shape[1])+0.5, minor=False)\n",
    "ax.set_xticklabels(row_labels, minor=False)\n",
    "ax.set_yticklabels(column_labels, minor=False)\n",
    "ax.invert_yaxis()\n",
    "ax.xaxis.tick_top()\n",
    "#plt.xticks(rotation=90)\n",
    "\n",
    "#no frame\n",
    "ax.set_frame_on(False)\n",
    "\n",
    "# Turn off all the ticks\n",
    "ax = plt.gca()\n",
    "for t in ax.xaxis.get_major_ticks():\n",
    "    t.tick1On = False\n",
    "    t.tick2On = False\n",
    "for t in ax.yaxis.get_major_ticks():\n",
    "    t.tick1On = False\n",
    "    t.tick2On = False\n",
    "\n",
    "plt.show()\n",
    "#fig.savefig(\"RIC-Heatmap.jpg\", dpi=300)\n",
    "fig.savefig(\"Prot15-Heatmap.svg\", dpi=300)\n",
    "#fig.savefig(\"RIC-Heatmap.pdf\", dpi=300)"
   ]
  },
  {
   "cell_type": "code",
   "execution_count": 26,
   "metadata": {
    "scrolled": true
   },
   "outputs": [
    {
     "data": {
      "image/png": "[encoded data removed]",
      "text/plain": [
       "<Figure size 36x1440 with 2 Axes>"
      ]
     },
     "metadata": {
      "needs_background": "light"
     },
     "output_type": "display_data"
    }
   ],
   "source": [
    "df_indexed = int_df_Cytoplasm.set_index('Protein')\n",
    "\n",
    "column_labels = df_indexed.index #CGNP.axes[0]\n",
    "row_labels = df_indexed.columns[:1] #CGNP.axes[1]\n",
    "data = df_indexed.values[:,:1]\n",
    "\n",
    "# figure size\n",
    "#plt.figure(figsize=(20, 10))\n",
    "fig, ax = plt.subplots(figsize=(0.5, 20))\n",
    "\n",
    "# color scheme\n",
    "heatmap = ax.pcolormesh(data, cmap='Reds', alpha=1) # plt.cm.bwr\n",
    "    \n",
    "# add colorbar\n",
    "fig.colorbar(heatmap, ax=ax)#, ax=ax)\n",
    "\n",
    "# put the major ticks at the middle of each cell, notice \"reverse\" use of dimension\n",
    "ax.set_yticks(np.arange(data.shape[0])+0.5, minor=False)\n",
    "ax.set_xticks(np.arange(data.shape[1])+0.5, minor=False)\n",
    "ax.set_xticklabels(row_labels, minor=False)\n",
    "ax.set_yticklabels(column_labels, minor=False)\n",
    "ax.invert_yaxis()\n",
    "ax.xaxis.tick_top()\n",
    "#plt.xticks(rotation=90)\n",
    "\n",
    "#no frame\n",
    "ax.set_frame_on(False)\n",
    "\n",
    "# Turn off all the ticks\n",
    "ax = plt.gca()\n",
    "for t in ax.xaxis.get_major_ticks():\n",
    "    t.tick1On = False\n",
    "    t.tick2On = False\n",
    "for t in ax.yaxis.get_major_ticks():\n",
    "    t.tick1On = False\n",
    "    t.tick2On = False\n",
    "\n",
    "plt.show()\n",
    "#fig.savefig(\"RIC-Heatmap.jpg\", dpi=300)\n",
    "fig.savefig(\"Cytoplasm-Heatmap.svg\", dpi=300)\n",
    "#fig.savefig(\"RIC-Heatmap.pdf\", dpi=300)"
   ]
  },
  {
   "cell_type": "code",
   "execution_count": 27,
   "metadata": {},
   "outputs": [
    {
     "data": {
      "image/png": "[encoded data removed]",
      "text/plain": [
       "<Figure size 36x1224 with 2 Axes>"
      ]
     },
     "metadata": {
      "needs_background": "light"
     },
     "output_type": "display_data"
    }
   ],
   "source": [
    "df_indexed = int_df_Nucleus.set_index('Protein')\n",
    "\n",
    "column_labels = df_indexed.index #CGNP.axes[0]\n",
    "row_labels = df_indexed.columns[:1] #CGNP.axes[1]\n",
    "data = df_indexed.values[:,:1]\n",
    "\n",
    "# figure size\n",
    "#plt.figure(figsize=(20, 10))\n",
    "fig, ax = plt.subplots(figsize=(0.5, 17))\n",
    "\n",
    "# color scheme\n",
    "heatmap = ax.pcolormesh(data, cmap='Reds', alpha=1) # plt.cm.bwr\n",
    "    \n",
    "# add colorbar\n",
    "fig.colorbar(heatmap, ax=ax)#, ax=ax)\n",
    "\n",
    "# put the major ticks at the middle of each cell, notice \"reverse\" use of dimension\n",
    "ax.set_yticks(np.arange(data.shape[0])+0.5, minor=False)\n",
    "ax.set_xticks(np.arange(data.shape[1])+0.5, minor=False)\n",
    "ax.set_xticklabels(row_labels, minor=False)\n",
    "ax.set_yticklabels(column_labels, minor=False)\n",
    "ax.invert_yaxis()\n",
    "ax.xaxis.tick_top()\n",
    "#plt.xticks(rotation=90)\n",
    "\n",
    "#no frame\n",
    "ax.set_frame_on(False)\n",
    "\n",
    "# Turn off all the ticks\n",
    "ax = plt.gca()\n",
    "for t in ax.xaxis.get_major_ticks():\n",
    "    t.tick1On = False\n",
    "    t.tick2On = False\n",
    "for t in ax.yaxis.get_major_ticks():\n",
    "    t.tick1On = False\n",
    "    t.tick2On = False\n",
    "\n",
    "plt.show()\n",
    "#fig.savefig(\"RIC-Heatmap.jpg\", dpi=300)\n",
    "fig.savefig(\"Nucleus-Heatmap.svg\", dpi=300)\n",
    "#fig.savefig(\"RIC-Heatmap.pdf\", dpi=300)"
   ]
  },
  {
   "cell_type": "markdown",
   "metadata": {},
   "source": [
    "# bioinfokit"
   ]
  },
  {
   "cell_type": "code",
   "execution_count": 37,
   "metadata": {},
   "outputs": [
    {
     "ename": "IndentationError",
     "evalue": "unexpected indent (<ipython-input-37-e133bc8e1fa7>, line 7)",
     "output_type": "error",
     "traceback": [
      "\u001b[0;36m  File \u001b[0;32m\"<ipython-input-37-e133bc8e1fa7>\"\u001b[0;36m, line \u001b[0;32m7\u001b[0m\n\u001b[0;31m    Gene         A         B         C        D        E         F\u001b[0m\n\u001b[0m    ^\u001b[0m\n\u001b[0;31mIndentationError\u001b[0m\u001b[0;31m:\u001b[0m unexpected indent\n"
     ]
    }
   ],
   "source": [
    "#conda install -c bioconda bioinfokit\n",
    "\n",
    "from bioinfokit import analys, visuz\n",
    "# load dataset as pandas dataframe\n",
    "df = analys.get_data('hmap').data\n",
    "df.head(2)\n",
    "    Gene         A         B         C        D        E         F\n",
    "0  B-CHI  4.505700  3.260360 -1.249400  8.89807  8.05955 -0.842803\n",
    "1   CTL2  3.508560  1.660790 -1.856680 -2.57336 -1.37370  1.196000\n",
    "\n",
    "# set gene names as index\n",
    "df = df.set_index(df.columns[0])\n",
    "df.head(2)\n",
    "              A         B         C        D        E         F\n",
    "Gene\n",
    "B-CHI  4.505700  3.260360 -1.249400  8.89807  8.05955 -0.842803\n",
    "CTL2   3.508560  1.660790 -1.856680 -2.57336 -1.37370  1.196000\n",
    "\n",
    "\n",
    "# heatmap with hierarchical clustering \n",
    "visuz.gene_exp.hmap(df=df, dim=(3, 6), tickfont=(6, 4))\n",
    "\n",
    "# heatmap without hierarchical clustering \n",
    "visuz.gene_exp.hmap(df=df, rowclus=False, colclus=False, dim=(3, 6), tickfont=(6, 4))\n",
    "# heatmaps will be saved in same directory\n",
    "# set parameter show=True, if you want view the image instead of saving"
   ]
  },
  {
   "cell_type": "code",
   "execution_count": null,
   "metadata": {},
   "outputs": [],
   "source": [
    "# colormaps are available at  https://matplotlib.org/3.1.0/tutorials/colors/colormaps.html\n",
    "# default is seismic \n",
    "# here I use red-yellow-green: RdYlGn\n",
    "visuz.gene_exp.hmap(df=df, cmap='RdYlGn', dim=(3, 6), tickfont=(6, 4))\n",
    "\n",
    "# heatmap without hierarchical clustering \n",
    "visuz.gene_exp.hmap(df=df, rowclus=False, colclus=False, cmap='RdYlGn', dim=(3, 6), tickfont=(6, 4))"
   ]
  },
  {
   "cell_type": "code",
   "execution_count": null,
   "metadata": {},
   "outputs": [],
   "source": [
    "# Z-score can be used to standardize value with mean 0 and var 1\n",
    "# default Z-score is set to None and it applies to only heatmap with cluster\n",
    "# here I standardize column with Z-score\n",
    "visuz.gene_exp.hmap(df=df, zscore=1, dim=(3, 6), tickfont=(6, 4))\n",
    "\n",
    "# here I standardize row with Z-score\n",
    "visuz.gene_exp.hmap(df=df, zscore=0, dim=(3, 6), tickfont=(6, 4))\n"
   ]
  }
 ],
 "metadata": {
  "kernelspec": {
   "display_name": "Python 3",
   "language": "python",
   "name": "python3"
  },
  "language_info": {
   "codemirror_mode": {
    "name": "ipython",
    "version": 3
   },
   "file_extension": ".py",
   "mimetype": "text/x-python",
   "name": "python",
   "nbconvert_exporter": "python",
   "pygments_lexer": "ipython3",
   "version": "3.7.0"
  }
 },
 "nbformat": 4,
 "nbformat_minor": 1
}
